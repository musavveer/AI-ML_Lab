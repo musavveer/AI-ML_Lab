{
 "cells": [
  {
   "cell_type": "markdown",
   "id": "f5ef3387",
   "metadata": {},
   "source": [
    "# K Nearest Neighbor Algorithm"
   ]
  },
  {
   "cell_type": "markdown",
   "id": "0f51fd68",
   "metadata": {},
   "source": [
    "Program to implement k-Nearest Neighbor algorithm to classify the iris dataset."
   ]
  },
  {
   "cell_type": "code",
   "execution_count": 12,
   "id": "0f9aa180",
   "metadata": {},
   "outputs": [
    {
     "name": "stdout",
     "output_type": "stream",
     "text": [
      "Iris Dataset loaded!\n",
      "Label 0 - setosa \n",
      "\n",
      "Label 1 - versicolor \n",
      "\n",
      "Label 2 - virginica \n",
      "\n",
      "Results of classifications using K-NN with K=1\n",
      "\n",
      "Sample:  [5.5 2.6 4.4 1.2] Actual-label:  1 Predicted-label:  1\n",
      "Classification Accuracy:  93.33333333333333 \n",
      "\n",
      "Sample:  [4.9 2.5 4.5 1.7] Actual-label:  2 Predicted-label:  1\n",
      "Classification Accuracy:  93.33333333333333 \n",
      "\n",
      "Sample:  [5.7 2.9 4.2 1.3] Actual-label:  1 Predicted-label:  1\n",
      "Classification Accuracy:  93.33333333333333 \n",
      "\n",
      "Sample:  [4.8 3.  1.4 0.1] Actual-label:  0 Predicted-label:  0\n",
      "Classification Accuracy:  93.33333333333333 \n",
      "\n",
      "Sample:  [5.  3.4 1.5 0.2] Actual-label:  0 Predicted-label:  0\n",
      "Classification Accuracy:  93.33333333333333 \n",
      "\n",
      "Sample:  [7.9 3.8 6.4 2. ] Actual-label:  2 Predicted-label:  2\n",
      "Classification Accuracy:  93.33333333333333 \n",
      "\n",
      "Sample:  [6.9 3.1 5.1 2.3] Actual-label:  2 Predicted-label:  2\n",
      "Classification Accuracy:  93.33333333333333 \n",
      "\n",
      "Sample:  [4.4 3.  1.3 0.2] Actual-label:  0 Predicted-label:  0\n",
      "Classification Accuracy:  93.33333333333333 \n",
      "\n",
      "Sample:  [4.9 3.6 1.4 0.1] Actual-label:  0 Predicted-label:  0\n",
      "Classification Accuracy:  93.33333333333333 \n",
      "\n",
      "Sample:  [5.1 3.8 1.5 0.3] Actual-label:  0 Predicted-label:  0\n",
      "Classification Accuracy:  93.33333333333333 \n",
      "\n",
      "Sample:  [6.9 3.1 4.9 1.5] Actual-label:  1 Predicted-label:  1\n",
      "Classification Accuracy:  93.33333333333333 \n",
      "\n",
      "Sample:  [6.7 3.  5.  1.7] Actual-label:  1 Predicted-label:  1\n",
      "Classification Accuracy:  93.33333333333333 \n",
      "\n",
      "Sample:  [5.4 3.9 1.3 0.4] Actual-label:  0 Predicted-label:  0\n",
      "Classification Accuracy:  93.33333333333333 \n",
      "\n",
      "Sample:  [6.3 2.7 4.9 1.8] Actual-label:  2 Predicted-label:  2\n",
      "Classification Accuracy:  93.33333333333333 \n",
      "\n",
      "Sample:  [7.7 3.8 6.7 2.2] Actual-label:  2 Predicted-label:  2\n",
      "Classification Accuracy:  93.33333333333333 \n",
      "\n"
     ]
    }
   ],
   "source": [
    "from sklearn.model_selection import train_test_split\n",
    "from sklearn.neighbors import KNeighborsClassifier\n",
    "from sklearn import datasets\n",
    "\n",
    "iris = datasets.load_iris()\n",
    "print(\"Iris Dataset loaded!\")\n",
    "x_train, x_test, y_train, y_test = train_test_split(iris.data, iris.target, test_size=0.1)\n",
    "\n",
    "for i in range(len(iris.target_names)):\n",
    "    print(\"Label\", i, \"-\", str(iris.target_names[i]), \"\\n\")\n",
    "    \n",
    "classifier = KNeighborsClassifier(n_neighbors=2)\n",
    "classifier.fit(x_train, y_train)\n",
    "y_pred = classifier.predict(x_test)\n",
    "\n",
    "print(\"Results of classifications using K-NN with K=1\\n\")\n",
    "for r in range(0,len(x_test)):\n",
    "    print(\"Sample: \", str(x_test[r]), \"Actual-label: \", str(y_test[r]), \"Predicted-label: \", str(y_pred[r]))\n",
    "    print(\"Classification Accuracy: \", classifier.score(x_test, y_test)*100, \"\\n\")"
   ]
  }
 ],
 "metadata": {
  "kernelspec": {
   "display_name": "Python 3 (ipykernel)",
   "language": "python",
   "name": "python3"
  },
  "language_info": {
   "codemirror_mode": {
    "name": "ipython",
    "version": 3
   },
   "file_extension": ".py",
   "mimetype": "text/x-python",
   "name": "python",
   "nbconvert_exporter": "python",
   "pygments_lexer": "ipython3",
   "version": "3.9.12"
  }
 },
 "nbformat": 4,
 "nbformat_minor": 5
}
