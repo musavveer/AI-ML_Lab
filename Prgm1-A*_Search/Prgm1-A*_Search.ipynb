{
 "cells": [
  {
   "cell_type": "markdown",
   "id": "f24eab80",
   "metadata": {},
   "source": [
    "# Implement A* Search algorithm"
   ]
  },
  {
   "cell_type": "markdown",
   "id": "68117480",
   "metadata": {},
   "source": [
    "Task: find the shortest path between an initial and a final point. This algorithm is the advanced form of BFS algorithm. "
   ]
  },
  {
   "cell_type": "markdown",
   "id": "e0a3ee09",
   "metadata": {},
   "source": [
    "F(n) = g(n) + h(n) <br/>\n",
    "Where, <br/>\n",
    "f(n) : The actual cost path from the start node to the goal node <br/>\n",
    "g(n) : The actual cost path from start node to the current node <br/>\n",
    "h(n) : Heuristic value - From current node to goal node <br/>"
   ]
  },
  {
   "cell_type": "code",
   "execution_count": 1,
   "id": "90effe10",
   "metadata": {},
   "outputs": [
    {
     "name": "stdout",
     "output_type": "stream",
     "text": [
      "Path found: ['A', 'B', 'G']\n"
     ]
    }
   ],
   "source": [
    "def aStarAlgo(start_node, stop_node):\n",
    "    open_set = set(start_node)\n",
    "    closed_set = set()\n",
    "    g = {} #to store dist from start node\n",
    "    parents = {} #contains adjacency map of all nodes\n",
    "    g[start_node] = 0\n",
    "    parents[start_node] = start_node #start node doesn't have parent so it is set to itself\n",
    "    \n",
    "    #n is current node\n",
    "    \n",
    "    while len(open_set) > 0:\n",
    "        n = None\n",
    "        \n",
    "        #to find node with lowest f\n",
    "        for v in open_set:\n",
    "            if n == None or g[v] + heuristic(v) < g[n] + heuristic(n):\n",
    "                n = v\n",
    "        if n == stop_node or Graph_nodes[n] == None:\n",
    "            pass\n",
    "        else:\n",
    "            for(m, weight) in get_neighbours(n):\n",
    "                if m not in open_set and m not in closed_set:\n",
    "                    open_set.add(m)\n",
    "                    parents[m] = n\n",
    "                    g[m] = g[n] + weight\n",
    "                else:\n",
    "                    if g[m] > g[n] + weight:\n",
    "                        g[m] = g[n] + weight\n",
    "                        parents[m] = n\n",
    "                        \n",
    "                        if m in closed_set:\n",
    "                            closed_set.remove(m)\n",
    "                            open_set.add(m)\n",
    "        if n == None:\n",
    "            print(\"Path doesn't exist!\")\n",
    "            return None\n",
    "    \n",
    "        if n == stop_node:\n",
    "            path = []\n",
    "        \n",
    "            while parents[n] != n:\n",
    "                path.append(n)\n",
    "                n = parents[n]\n",
    "            \n",
    "            path.append(start_node)\n",
    "            path.reverse()\n",
    "            print(\"Path found: {}\".format(path))\n",
    "            return \n",
    "        \n",
    "        open_set.remove(n)\n",
    "        closed_set.add(n)\n",
    "        \n",
    "    print(\"Path doesn't exist!\")\n",
    "    return None\n",
    "\n",
    "\n",
    "#function to return neighbour and its distance\n",
    "def get_neighbours(v):\n",
    "    if v in Graph_nodes:\n",
    "        return Graph_nodes[v]\n",
    "    else:\n",
    "        return None\n",
    "    \n",
    "#Heuristic distance of all the nodes\n",
    "def heuristic(n):\n",
    "    H_dist = {\n",
    "        'A':11,\n",
    "        'B':6,\n",
    "        'C':99,\n",
    "        'D':1,\n",
    "        'E':7,\n",
    "        'G':0,\n",
    "    }\n",
    "    return H_dist[n]    \n",
    "    \n",
    "#Our graph\n",
    "Graph_nodes = {\n",
    "    'A':[('B',7),('E',3)],\n",
    "    'B':[('C',1),('G',9)],\n",
    "    'C':None,\n",
    "    'D':[('G',1),('E',7)],\n",
    "    'E':None,\n",
    "}\n",
    "\n",
    "aStarAlgo('A','G')"
   ]
  }
 ],
 "metadata": {
  "kernelspec": {
   "display_name": "Python 3 (ipykernel)",
   "language": "python",
   "name": "python3"
  },
  "language_info": {
   "codemirror_mode": {
    "name": "ipython",
    "version": 3
   },
   "file_extension": ".py",
   "mimetype": "text/x-python",
   "name": "python",
   "nbconvert_exporter": "python",
   "pygments_lexer": "ipython3",
   "version": "3.9.12"
  },
  "widgets": {
   "application/vnd.jupyter.widget-state+json": {
    "state": {},
    "version_major": 2,
    "version_minor": 0
   }
  }
 },
 "nbformat": 4,
 "nbformat_minor": 5
}
