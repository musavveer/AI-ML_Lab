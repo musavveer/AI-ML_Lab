{
 "cells": [
  {
   "cell_type": "markdown",
   "id": "ca38b2aa-c2ff-4c5e-a423-433363245110",
   "metadata": {},
   "source": [
    "# Candidate Elimination Algorithm"
   ]
  },
  {
   "cell_type": "markdown",
   "id": "f3bb0446-8eab-45cf-afa3-63ed8ea2da9e",
   "metadata": {},
   "source": [
    "Task: The CANDIDATE-ELIMINATION algorithm computes the version space containing all hypotheses from H that are consistent with an observed sequence of training examples"
   ]
  },
  {
   "cell_type": "markdown",
   "id": "962631c9-040d-426c-8d5e-a300ed30a013",
   "metadata": {},
   "source": [
    "VS H,D = {hє H | Consistent(h, D)}"
   ]
  },
  {
   "cell_type": "code",
   "execution_count": 2,
   "id": "c3e5ff3f-fb56-4c41-a203-75d1aafee5eb",
   "metadata": {},
   "outputs": [],
   "source": [
    "import csv"
   ]
  },
  {
   "cell_type": "code",
   "execution_count": 3,
   "id": "964f262a-f404-4a12-a3a8-60360e0b2b1d",
   "metadata": {},
   "outputs": [
    {
     "name": "stdout",
     "output_type": "stream",
     "text": [
      "\n",
      " If instance is positive\n",
      "Step 1 Candidate ELiminaton Algorithm\n",
      "['sunny', 'warm', '?', 'strong', 'warm', 'same']\n",
      "[['?', '?', '?', '?', '?', '?'], ['?', '?', '?', '?', '?', '?'], ['?', '?', '?', '?', '?', '?'], ['?', '?', '?', '?', '?', '?'], ['?', '?', '?', '?', '?', '?'], ['?', '?', '?', '?', '?', '?']]\n",
      "--------------------------------------\n",
      "\n",
      " If instance is positive\n",
      "Step 2 Candidate ELiminaton Algorithm\n",
      "['sunny', 'warm', '?', 'strong', 'warm', 'same']\n",
      "[['?', '?', '?', '?', '?', '?'], ['?', '?', '?', '?', '?', '?'], ['?', '?', '?', '?', '?', '?'], ['?', '?', '?', '?', '?', '?'], ['?', '?', '?', '?', '?', '?'], ['?', '?', '?', '?', '?', '?']]\n",
      "--------------------------------------\n",
      "\n",
      " If instance is negative\n",
      "Step 3 Candidate ELiminaton Algorithm\n",
      "['sunny', 'warm', '?', 'strong', 'warm', 'same']\n",
      "[['sunny', '?', '?', '?', '?', '?'], ['?', 'warm', '?', '?', '?', '?'], ['?', '?', '?', '?', '?', '?'], ['?', '?', '?', '?', '?', '?'], ['?', '?', '?', '?', '?', '?'], ['?', '?', '?', '?', '?', 'same']]\n",
      "--------------------------------------\n",
      "\n",
      " If instance is positive\n",
      "Step 4 Candidate ELiminaton Algorithm\n",
      "['sunny', 'warm', '?', 'strong', '?', '?']\n",
      "[['sunny', '?', '?', '?', '?', '?'], ['?', 'warm', '?', '?', '?', '?'], ['?', '?', '?', '?', '?', '?'], ['?', '?', '?', '?', '?', '?'], ['?', '?', '?', '?', '?', '?'], ['?', '?', '?', '?', '?', '?']]\n",
      "--------------------------------------\n",
      "\n",
      "Final Specific hypothesis:\n",
      " ['sunny', 'warm', '?', 'strong', '?', '?']\n",
      "\n",
      "Final General hypothesis:\n",
      " [['sunny', '?', '?', '?', '?', '?'], ['?', 'warm', '?', '?', '?', '?']]\n"
     ]
    }
   ],
   "source": [
    "with open(\"data.csv\") as f:\n",
    "    csv_file = csv.reader(f)\n",
    "    data = list(csv_file)\n",
    "    \n",
    "    specific = data[1][:-1]\n",
    "    general = [['?' for i in range(len(specific))] for j in range(len(specific))]\n",
    "    \n",
    "    for i in data:\n",
    "        if i[-1] == 'Y':\n",
    "            print('\\n If instance is positive')\n",
    "            for j in range(len(specific)):\n",
    "                if i[j] != specific[j]:\n",
    "                    specific[j] = '?'\n",
    "                    general[j][j] = '?'\n",
    "                \n",
    "        elif i[-1] == 'N':\n",
    "            print('\\n If instance is negative')\n",
    "            for j in range(len(specific)):\n",
    "                if i[j] != specific[j]:\n",
    "                    general[j][j] = specific[j]\n",
    "                else:\n",
    "                    general[j][j] = '?'\n",
    "          \n",
    "        print(\"Step \" + str(data.index(i)+1) + \" Candidate ELiminaton Algorithm\")\n",
    "        print(specific)\n",
    "        print(general)\n",
    "        print(\"--------------------------------------\")\n",
    "   \n",
    "    gh = []\n",
    "    for i in general:\n",
    "        for j in i:\n",
    "            if j != '?':\n",
    "                gh.append(i)\n",
    "                break\n",
    "    print(\"\\nFinal Specific hypothesis:\\n\", specific)\n",
    "    print(\"\\nFinal General hypothesis:\\n\",gh)         "
   ]
  },
  {
   "cell_type": "code",
   "execution_count": null,
   "id": "5573817f-f9d9-4fd0-a564-80a271e80677",
   "metadata": {},
   "outputs": [],
   "source": []
  }
 ],
 "metadata": {
  "kernelspec": {
   "display_name": "Python 3 (ipykernel)",
   "language": "python",
   "name": "python3"
  },
  "language_info": {
   "codemirror_mode": {
    "name": "ipython",
    "version": 3
   },
   "file_extension": ".py",
   "mimetype": "text/x-python",
   "name": "python",
   "nbconvert_exporter": "python",
   "pygments_lexer": "ipython3",
   "version": "3.9.12"
  },
  "widgets": {
   "application/vnd.jupyter.widget-state+json": {
    "state": {},
    "version_major": 2,
    "version_minor": 0
   }
  }
 },
 "nbformat": 4,
 "nbformat_minor": 5
}
