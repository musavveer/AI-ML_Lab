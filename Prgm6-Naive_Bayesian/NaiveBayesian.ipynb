{
 "cells": [
  {
   "cell_type": "markdown",
   "id": "f3d2d76f",
   "metadata": {},
   "source": [
    "# Naive Bayesian Algorithm"
   ]
  },
  {
   "cell_type": "markdown",
   "id": "4e29e2af",
   "metadata": {},
   "source": [
    "Naive Bayesian classifier for a sample training dataset stored as a .CSV file and compute the accuracy of the classifier, considering few test data sets."
   ]
  },
  {
   "cell_type": "code",
   "execution_count": 1,
   "id": "9f388fce",
   "metadata": {},
   "outputs": [
    {
     "name": "stdout",
     "output_type": "stream",
     "text": [
      "The first values of data are: \n",
      "     Outlook Temperature Humidity    Wind PlayTennis\n",
      "0     sunny         hot     high    weak         no\n",
      "1     sunny         hot     high  strong         no\n",
      "2  overcast         hot     high    weak        yes\n",
      "3      rain        mild   normal    weak        yes\n",
      "4      rain        cool   normal    weak         no\n",
      "-------------------------------------\n",
      "The first 5 valuses of training data are: \n",
      "     Outlook Temperature Humidity    Wind\n",
      "0     sunny         hot     high    weak\n",
      "1     sunny         hot     high  strong\n",
      "2  overcast         hot     high    weak\n",
      "3      rain        mild   normal    weak\n",
      "4      rain        cool   normal    weak\n",
      "-------------------------------------\n",
      "The first 5 values of training output are: \n",
      " 0     no\n",
      "1     no\n",
      "2    yes\n",
      "3    yes\n",
      "4     no\n",
      "Name: PlayTennis, dtype: object\n",
      "-------------------------------------\n",
      "Now the the trained output is: \n",
      "    Outlook  Temperature  Humidity  Wind\n",
      "0        2            1         0     1\n",
      "1        2            1         0     0\n",
      "2        0            1         0     1\n",
      "3        1            2         1     1\n",
      "4        1            0         1     1\n",
      "Now the trained output is: \n",
      " [0 0 1 1 0 1 0 1 0 1 1 1 1 1 0]\n",
      "Accuracy is:  66.66666666666666\n"
     ]
    },
    {
     "name": "stderr",
     "output_type": "stream",
     "text": [
      "/var/folders/yw/m2lgcwrx38j6hmjj7kjbzjh80000gn/T/ipykernel_36609/3446565372.py:21: SettingWithCopyWarning: \n",
      "A value is trying to be set on a copy of a slice from a DataFrame.\n",
      "Try using .loc[row_indexer,col_indexer] = value instead\n",
      "\n",
      "See the caveats in the documentation: https://pandas.pydata.org/pandas-docs/stable/user_guide/indexing.html#returning-a-view-versus-a-copy\n",
      "  X.Outlook = le_Outlook.fit_transform(X.Outlook)\n",
      "/var/folders/yw/m2lgcwrx38j6hmjj7kjbzjh80000gn/T/ipykernel_36609/3446565372.py:24: SettingWithCopyWarning: \n",
      "A value is trying to be set on a copy of a slice from a DataFrame.\n",
      "Try using .loc[row_indexer,col_indexer] = value instead\n",
      "\n",
      "See the caveats in the documentation: https://pandas.pydata.org/pandas-docs/stable/user_guide/indexing.html#returning-a-view-versus-a-copy\n",
      "  X.Temperature = le_Temperature.fit_transform(X.Temperature)\n",
      "/var/folders/yw/m2lgcwrx38j6hmjj7kjbzjh80000gn/T/ipykernel_36609/3446565372.py:27: SettingWithCopyWarning: \n",
      "A value is trying to be set on a copy of a slice from a DataFrame.\n",
      "Try using .loc[row_indexer,col_indexer] = value instead\n",
      "\n",
      "See the caveats in the documentation: https://pandas.pydata.org/pandas-docs/stable/user_guide/indexing.html#returning-a-view-versus-a-copy\n",
      "  X.Humidity = le_Humidity.fit_transform(X.Humidity)\n",
      "/var/folders/yw/m2lgcwrx38j6hmjj7kjbzjh80000gn/T/ipykernel_36609/3446565372.py:30: SettingWithCopyWarning: \n",
      "A value is trying to be set on a copy of a slice from a DataFrame.\n",
      "Try using .loc[row_indexer,col_indexer] = value instead\n",
      "\n",
      "See the caveats in the documentation: https://pandas.pydata.org/pandas-docs/stable/user_guide/indexing.html#returning-a-view-versus-a-copy\n",
      "  X.Wind = le_Wind.fit_transform(X.Wind)\n"
     ]
    }
   ],
   "source": [
    "import pandas as pd\n",
    "from sklearn import tree\n",
    "from sklearn.preprocessing import LabelEncoder\n",
    "from sklearn.naive_bayes import GaussianNB\n",
    "\n",
    "data = pd.read_csv(\"data.csv\")\n",
    "print(\"The first values of data are: \\n\", data.head())\n",
    "print(\"-------------------------------------\")\n",
    "\n",
    "X = data.iloc[:, :-1]\n",
    "print(\"The first 5 valuses of training data are: \\n\", X.head())\n",
    "print(\"-------------------------------------\")\n",
    "\n",
    "Y = data.iloc[:, -1]\n",
    "print(\"The first 5 values of training output are: \\n\", Y.head())\n",
    "print(\"-------------------------------------\")\n",
    "\n",
    "\n",
    "# convert them to numbers\n",
    "le_Outlook = LabelEncoder()\n",
    "X.Outlook = le_Outlook.fit_transform(X.Outlook)\n",
    "\n",
    "le_Temperature = LabelEncoder()\n",
    "X.Temperature = le_Temperature.fit_transform(X.Temperature)\n",
    "\n",
    "le_Humidity = LabelEncoder()\n",
    "X.Humidity = le_Humidity.fit_transform(X.Humidity)\n",
    "\n",
    "le_Wind = LabelEncoder()\n",
    "X.Wind = le_Wind.fit_transform(X.Wind)\n",
    "\n",
    "print(\"Now the the trained output is: \\n\", X.head())\n",
    "\n",
    "le_PlayTennis = LabelEncoder()\n",
    "Y = le_PlayTennis.fit_transform(Y)\n",
    "print(\"Now the trained output is: \\n\", Y)\n",
    "\n",
    "from sklearn.model_selection import train_test_split\n",
    "X_train, X_test, Y_train, Y_test = train_test_split(X,Y, test_size = 0.20)\n",
    "\n",
    "classifier = GaussianNB()\n",
    "classifier.fit(X_train, Y_train)\n",
    "\n",
    "from sklearn.metrics import accuracy_score\n",
    "print(\"Accuracy is: \", accuracy_score(classifier.predict(X_test), Y_test)*100)\n"
   ]
  }
 ],
 "metadata": {
  "kernelspec": {
   "display_name": "Python 3 (ipykernel)",
   "language": "python",
   "name": "python3"
  },
  "language_info": {
   "codemirror_mode": {
    "name": "ipython",
    "version": 3
   },
   "file_extension": ".py",
   "mimetype": "text/x-python",
   "name": "python",
   "nbconvert_exporter": "python",
   "pygments_lexer": "ipython3",
   "version": "3.9.12"
  }
 },
 "nbformat": 4,
 "nbformat_minor": 5
}
