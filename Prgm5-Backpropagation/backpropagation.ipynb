{
 "cells": [
  {
   "cell_type": "markdown",
   "id": "74a65a54",
   "metadata": {},
   "source": [
    "# Backpropagation Algorithm"
   ]
  },
  {
   "cell_type": "markdown",
   "id": "bb885703",
   "metadata": {},
   "source": [
    "Building an Artificial Neural Network by implementing the Back propagation algorithm "
   ]
  },
  {
   "cell_type": "code",
   "execution_count": 16,
   "id": "c8a7b89b",
   "metadata": {},
   "outputs": [
    {
     "name": "stdout",
     "output_type": "stream",
     "text": [
      "Input: \n",
      "[[0.66666667 1.        ]\n",
      " [0.33333333 0.55555556]\n",
      " [1.         0.66666667]]\n",
      "Actual Output: \n",
      "[[0.92]\n",
      " [0.86]\n",
      " [0.89]]\n",
      "Predicted Output: \n",
      " [[0.89865618]\n",
      " [0.88405974]\n",
      " [0.90480278]]\n",
      "Final Error in Predicted Output: \n",
      " [[ 0.02134382]\n",
      " [-0.02405974]\n",
      " [-0.01480278]]\n"
     ]
    }
   ],
   "source": [
    "import numpy as np\n",
    "\n",
    "X = np.array(([2,9], [1,5], [3,6]), dtype=float) # input\n",
    "Y = np.array(([92], [86], [89]), dtype=float) # output\n",
    "X = X/np.amax(X, axis=0)\n",
    "Y = Y/100\n",
    "\n",
    "def sigmoid(x):\n",
    "    return 1/(1 + np.exp(-x))\n",
    "\n",
    "def derivatives_sigmoid(x):\n",
    "    return x*(1 - x)\n",
    "\n",
    "epoch = 1\n",
    "\n",
    "lr = 0.1\n",
    "inputlayer_neurons = 2\n",
    "hiddenlayer_neurons = 3\n",
    "output_neurons = 1\n",
    "\n",
    "# weight and bias\n",
    "wh = np.random.uniform(size=(inputlayer_neurons, hiddenlayer_neurons))\n",
    "bh = np.random.uniform(size=(1,hiddenlayer_neurons))\n",
    "wout = np.random.uniform(size=(hiddenlayer_neurons, output_neurons))\n",
    "bout = np.random.uniform(size=(1,output_neurons))\n",
    "\n",
    "for i in range(epoch):\n",
    "    # forward propogation\n",
    "    hinp1 = np.dot(X,wh)\n",
    "    hinp = hinp1+bh\n",
    "    hlayer_act = sigmoid(hinp)\n",
    "    outinp1 = np.dot(hlayer_act,wout)\n",
    "    outinp = outinp1+bout\n",
    "    output = sigmoid(outinp)\n",
    "    \n",
    "    # backpropagation\n",
    "    EO = Y-output\n",
    "    outgrad = derivatives_sigmoid(output)\n",
    "    d_output = EO*outgrad\n",
    "    EH = np.dot(d_output, wout.T)\n",
    "    \n",
    "    hiddengrad = derivatives_sigmoid(hlayer_act)\n",
    "    d_hiddenlayer = EH*hiddengrad\n",
    "    \n",
    "    wout += np.dot(hlayer_act.T, d_output)*lr\n",
    "    bout += np.sum(d_output, axis=0)*lr\n",
    "    \n",
    "    wh += X.T.dot(d_hiddenlayer)*lr\n",
    "    bh += np.sum(d_hiddenlayer, axis=0)*lr\n",
    "\n",
    "print(\"Input: \\n\" +str(X))\n",
    "print(\"Actual Output: \\n\" +str(Y))\n",
    "print(\"Predicted Output: \\n\", output)\n",
    "print(\"Final Error in Predicted Output: \\n\", str(Y-output))"
   ]
  }
 ],
 "metadata": {
  "kernelspec": {
   "display_name": "Python 3 (ipykernel)",
   "language": "python",
   "name": "python3"
  },
  "language_info": {
   "codemirror_mode": {
    "name": "ipython",
    "version": 3
   },
   "file_extension": ".py",
   "mimetype": "text/x-python",
   "name": "python",
   "nbconvert_exporter": "python",
   "pygments_lexer": "ipython3",
   "version": "3.9.12"
  }
 },
 "nbformat": 4,
 "nbformat_minor": 5
}
