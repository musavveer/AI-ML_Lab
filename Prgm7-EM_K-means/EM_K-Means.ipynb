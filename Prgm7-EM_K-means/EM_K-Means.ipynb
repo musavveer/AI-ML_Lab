{
 "cells": [
  {
   "cell_type": "markdown",
   "id": "7c91e139",
   "metadata": {},
   "source": [
    "# EM and K-Means Algorithm"
   ]
  },
  {
   "cell_type": "markdown",
   "id": "ee5702fa",
   "metadata": {},
   "source": [
    "Apply EM algorithm to cluster a set of data stored in a .CSV file. Use the same data set for clustering using k-Means algorithm. Compare the results of these two algorithms and comment on the quality of clustering."
   ]
  },
  {
   "cell_type": "code",
   "execution_count": 1,
   "id": "b0d8f44f",
   "metadata": {},
   "outputs": [
    {
     "name": "stdout",
     "output_type": "stream",
     "text": [
      "    1   DRIVER_ID  DISTANCE_FEATURE  SPEEDING_FEATURE\n",
      "0   2  3423311935             71.24                28\n",
      "1   3  3423311936             85.11                25\n",
      "2   4  3423311937             55.45                10\n",
      "3   5  3423311938             54.81                34\n",
      "4   6  3423311939             46.91                 8\n",
      "5   7  3423311940             39.02                19\n",
      "6   8  3423311941             31.12                32\n",
      "7   9  3423311942             23.23                45\n",
      "8  10  3423311943             15.33                67\n",
      "9  11  3423311944              7.44                22\n"
     ]
    },
    {
     "name": "stderr",
     "output_type": "stream",
     "text": [
      "/opt/anaconda3/lib/python3.9/site-packages/sklearn/utils/validation.py:593: FutureWarning: np.matrix usage is deprecated in 1.0 and will raise a TypeError in 1.2. Please convert to a numpy array with np.asarray. For more information see: https://numpy.org/doc/stable/reference/generated/numpy.matrix.html\n",
      "  warnings.warn(\n",
      "/opt/anaconda3/lib/python3.9/site-packages/sklearn/utils/validation.py:593: FutureWarning: np.matrix usage is deprecated in 1.0 and will raise a TypeError in 1.2. Please convert to a numpy array with np.asarray. For more information see: https://numpy.org/doc/stable/reference/generated/numpy.matrix.html\n",
      "  warnings.warn(\n",
      "/opt/anaconda3/lib/python3.9/site-packages/sklearn/utils/validation.py:593: FutureWarning: np.matrix usage is deprecated in 1.0 and will raise a TypeError in 1.2. Please convert to a numpy array with np.asarray. For more information see: https://numpy.org/doc/stable/reference/generated/numpy.matrix.html\n",
      "  warnings.warn(\n"
     ]
    },
    {
     "data": {
      "image/png": "[encoded data removed]",
      "text/plain": [
       "<Figure size 432x288 with 3 Axes>"
      ]
     },
     "metadata": {
      "needs_background": "light"
     },
     "output_type": "display_data"
    }
   ],
   "source": [
    "import numpy as np\n",
    "import matplotlib.pyplot as plt\n",
    "import pandas as pd\n",
    "\n",
    "from sklearn.cluster import KMeans\n",
    "from sklearn.mixture import GaussianMixture\n",
    "\n",
    "df1 = pd.read_csv(\"data.csv\")\n",
    "print(df1)\n",
    "\n",
    "f1 = df1['DISTANCE_FEATURE'].values\n",
    "f2 = df1['SPEEDING_FEATURE'].values\n",
    "X = np.matrix(list(zip(f1,f2)))\n",
    "\n",
    "plt.plot(1)\n",
    "plt.subplot(511)\n",
    "plt.xlim([0, 100])\n",
    "plt.ylim([0, 50])\n",
    "plt.title('Dataset')\n",
    "plt.ylabel('speeding_feature')\n",
    "plt.xlabel('distance_feature')\n",
    "plt.scatter(f1,f2)\n",
    "colors = ['b','g','r']\n",
    "markers = ['o','v','s']\n",
    "\n",
    "# create new plot and data for K-means algorithm\n",
    "plt.plot(2)\n",
    "ax = plt.subplot(513)\n",
    "kmeans_model = KMeans(n_clusters=3).fit(X)\n",
    "for i, l in enumerate(kmeans_model.labels_):\n",
    "    plt.plot(f1[i], f2[i], color=colors[l], marker=markers[l])\n",
    "\n",
    "plt.xlim([0, 100])\n",
    "plt.ylim([0, 50])\n",
    "plt.title('K-Means')\n",
    "plt.ylabel('speeding_feature')\n",
    "plt.xlabel('distance_feature')\n",
    "plt.plot(3)\n",
    "plt.subplot(515)\n",
    "\n",
    "gmm = GaussianMixture(n_components = 3).fit(X)\n",
    "labels = gmm.predict(X)\n",
    "for i, l in enumerate(labels):\n",
    "    plt.plot(f1[i], f2[i], color=colors[l], marker=markers[l])\n",
    "    \n",
    "plt.xlim([0, 100])\n",
    "plt.ylim([0, 50])\n",
    "plt.title('Gaussian Mixture')\n",
    "plt.ylabel('speeding_feature')\n",
    "plt.xlabel('distance_feature')   \n",
    "plt.show()"
   ]
  }
 ],
 "metadata": {
  "kernelspec": {
   "display_name": "Python 3 (ipykernel)",
   "language": "python",
   "name": "python3"
  },
  "language_info": {
   "codemirror_mode": {
    "name": "ipython",
    "version": 3
   },
   "file_extension": ".py",
   "mimetype": "text/x-python",
   "name": "python",
   "nbconvert_exporter": "python",
   "pygments_lexer": "ipython3",
   "version": "3.9.12"
  }
 },
 "nbformat": 4,
 "nbformat_minor": 5
}
